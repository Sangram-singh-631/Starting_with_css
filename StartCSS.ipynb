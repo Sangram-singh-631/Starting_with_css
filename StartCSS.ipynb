{
  "nbformat": 4,
  "nbformat_minor": 0,
  "metadata": {
    "colab": {
      "provenance": []
    },
    "kernelspec": {
      "name": "python3",
      "display_name": "Python 3"
    },
    "language_info": {
      "name": "python"
    }
  },
  "cells": [
    {
      "cell_type": "markdown",
      "source": [],
      "metadata": {
        "id": "aEHlvvpfRjbQ"
      }
    },
    {
      "cell_type": "markdown",
      "source": [
        "1. Create a simple page with some div tags and show different ways to add CSS as well as what happens\n",
        "when you target the same elements with inline, internal, and external CSS. Also, utilize comments in the\n",
        "project where required.\n"
      ],
      "metadata": {
        "id": "B4G8hJZHRtR_"
      }
    },
    {
      "cell_type": "code",
      "source": [
        "<!DOCTYPE html>\n",
        "<html lang=\"en\">\n",
        "<head>\n",
        "    <meta charset=\"UTF-8\">\n",
        "    <meta name=\"viewport\" content=\"width=device-width, initial-scale=1.0\">\n",
        "    <title>Document</title>\n",
        "    <link rel=\"stylesheet\" href=\"Stylel.css\">\n",
        "    <style>\n",
        "\n",
        "        div{\n",
        "            background-color: aqua;\n",
        "            width: 10%;\n",
        "            height: 30px;\n",
        "            overflow-y: scroll;\n",
        "        }\n",
        "    </style>\n",
        "</head>\n",
        "<body>\n",
        "    <h1>Hello</h1>\n",
        "    <span>\n",
        "        This is a span\n",
        "        <!--External CSS is applied in this span-->\n",
        "    </span>hii\n",
        "    <div style=\"background-color: gray; height: auto; width: auto;\">\n",
        "        <!--This is inline CSS first priority is given to inline CSS.-->\n",
        "        This is a div 1\n",
        "    </div>\n",
        "    <div >\n",
        "        <!--This is internal Css which is in priority after inline CSS.-->\n",
        "        This is div2\n",
        "    </div>\n",
        "    <div>\n",
        "        This is div3\n",
        "    </div>\n",
        "</body>\n",
        "</html>"
      ],
      "metadata": {
        "id": "4sqeLgj_RBaE"
      },
      "execution_count": null,
      "outputs": []
    },
    {
      "cell_type": "markdown",
      "source": [
        "2. Build an HTML page with multiple paragraphs, each assigned a unique class name. Write CSS rules using\n",
        "class selectors to apply distinct styling to each paragraph. Follow the BEM naming convention and\n",
        "explain how you've named the classes."
      ],
      "metadata": {
        "id": "fFwSS0hPR2IH"
      }
    },
    {
      "cell_type": "code",
      "source": [
        "<!DOCTYPE html>\n",
        "<html lang=\"en\">\n",
        "<head>\n",
        "    <meta charset=\"UTF-8\">\n",
        "    <meta name=\"viewport\" content=\"width=device-width, initial-scale=1.0\">\n",
        "    <title>Document</title>\n",
        "    <style>\n",
        "        .para1{\n",
        "            color: bisque;\n",
        "            background-color: lightgray;\n",
        "            width: 500px;\n",
        "            height: 40px;\n",
        "        }\n",
        "        .para2{\n",
        "            color: aquamarine;\n",
        "            background-color: antiquewhite;\n",
        "            width: 350px;\n",
        "            height: 35px;\n",
        "        }\n",
        "        .para3{\n",
        "            color: blue;\n",
        "            background-color: black;\n",
        "            width: 300px;\n",
        "            height: 99px;\n",
        "        }\n",
        "    </style>\n",
        "</head>\n",
        "<body>\n",
        "    <p class=\"para1\">\n",
        "        This is paragraph 1 and it contains nothing special just an example.\n",
        "    </p>\n",
        "    <p class=\"para2\">\n",
        "        This is paragraph 2 and it does not contain even an example.\n",
        "    </p>\n",
        "    <p class=\"para3\">\n",
        "        This is paragraph 3 and it does contain the basic information about programming.\n",
        "    </p>\n",
        "</body>\n",
        "</html>"
      ],
      "metadata": {
        "id": "ry5iUt0T-MfZ"
      },
      "execution_count": null,
      "outputs": []
    },
    {
      "cell_type": "markdown",
      "source": [
        "3. = Develop an HTML form with various input elements. Use CSS to style the form, including setting\n",
        "background colors for input fields. Create a custom color palette for the form elements, and demonstrate\n",
        "how to apply opacity to one of the form sections."
      ],
      "metadata": {
        "id": "l-ghIh3j-VDo"
      }
    },
    {
      "cell_type": "code",
      "source": [
        "<!DOCTYPE html>\n",
        "<html lang=\"en\">\n",
        "<head>\n",
        "  <meta charset=\"UTF-8\">\n",
        "  <title>Styled Form</title>\n",
        "  <style>\n",
        "    :root {\n",
        "      --bg-color: #f0f4f8;\n",
        "      --input-bg: #e0f7fa;\n",
        "      --input-border: #26c6da;\n",
        "      --button-bg: #00796b;\n",
        "      --button-text: #ffffff;\n",
        "      --section-bg: #ffe082;\n",
        "    }\n",
        "\n",
        "\n",
        "\n",
        "    form {\n",
        "      background: white;\n",
        "      padding: 2rem;\n",
        "      border-radius: 8px;\n",
        "      max-width: 500px;\n",
        "      margin: auto;\n",
        "      box-shadow: 0 2px 8px rgba(0,0,0,0.1);\n",
        "    }\n",
        "\n",
        "\n",
        "    input[type=\"text\"],\n",
        "    input[type=\"email\"],\n",
        "    input[type=\"password\"],\n",
        "    select,\n",
        "    textarea {\n",
        "      width: 100%;\n",
        "      padding: 0.5rem;\n",
        "      margin-top: 0.25rem;\n",
        "      border: 1px solid var(--input-border);\n",
        "      border-radius: 4px;\n",
        "      background-color: var(--input-bg);\n",
        "    }\n",
        "\n",
        "  </style>\n",
        "</head>\n",
        "<body>\n",
        "\n",
        "  <form>\n",
        "    <h2>Contact Form</h2>\n",
        "\n",
        "    <label for=\"name\">Name</label>\n",
        "    <input type=\"text\" id=\"name\" name=\"name\" required>\n",
        "\n",
        "    <label for=\"email\">Email</label>\n",
        "    <input type=\"email\" id=\"email\" name=\"email\" required>\n",
        "\n",
        "    <label for=\"password\">Password</label>\n",
        "    <input type=\"password\" id=\"password\" name=\"password\">\n",
        "\n",
        "    <label for=\"gender\">Gender</label>\n",
        "    <select id=\"gender\" name=\"gender\">\n",
        "      <option value=\"\">Select</option>\n",
        "      <option>Male</option>\n",
        "      <option>Female</option>\n",
        "      <option>Other</option>\n",
        "    </select>\n",
        "\n",
        "    <label for=\"comments\">Comments</label>\n",
        "    <textarea id=\"comments\" name=\"comments\" ></textarea>\n",
        "\n",
        "    <div class=\"optional-section\">\n",
        "      <label for=\"newsletter\">Subscribe to newsletter?</label>\n",
        "      <input type=\"checkbox\" id=\"newsletter\" name=\"newsletter\">\n",
        "    </div>\n",
        "\n",
        "    <button type=\"submit\">Submit</button>\n",
        "  </form>\n",
        "\n",
        "</body>\n",
        "</html>\n"
      ],
      "metadata": {
        "id": "iEKOQopbGcDZ"
      },
      "execution_count": null,
      "outputs": []
    }
  ]
}